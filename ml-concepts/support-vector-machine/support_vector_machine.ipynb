{
  "nbformat": 4,
  "nbformat_minor": 0,
  "metadata": {
    "colab": {
      "provenance": []
    },
    "kernelspec": {
      "name": "python3",
      "display_name": "Python 3"
    },
    "language_info": {
      "name": "python"
    }
  },
  "cells": [
    {
      "cell_type": "code",
      "execution_count": null,
      "metadata": {
        "id": "EM5UBniQv5Ps"
      },
      "outputs": [],
      "source": [
        "from sklearn.model_selection import train_test_split\n",
        "from sklearn import svm\n",
        "from sklearn.metrics import accuracy_score,roc_auc_score\n",
        "import sklearn.metrics\n",
        "\n",
        "df = pd.read_csv('Datasets/Employee.csv')\n",
        "\n",
        "df.Education.replace({'Bachelors':1,'Masters':2,'PHD':3},inplace=True)\n",
        "df.Gender.replace({'Male':0,'Female':1},inplace=True)\n",
        "df.EverBenched.replace({'Yes':1,'No':0},inplace=True)\n",
        "\n",
        "x = df.drop(columns=['City','LeaveOrNot'],axis=1)\n",
        "y = df.LeaveOrNot\n",
        "\n",
        "X_train, X_test, y_train, y_test = train_test_split(x, y, test_size=0.20, random_state=0)\n",
        "\n",
        "scaler = StandardScaler()\n",
        "scaler.fit(X_train)\n",
        "X_train = scaler.transform(X_train)\n",
        "X_test = scaler.transform(X_test)\n",
        "\n",
        "classifier = svm.SVC()\n",
        "classifier.fit(X_train, y_train)\n",
        "\n",
        "y_pred = classifier.predict(X_test)\n",
        "\n",
        "accuracy = accuracy_score(y_test, y_pred)\n",
        "precision = precision_score(y_test, y_pred)\n",
        "print('Accuracy:', accuracy)\n",
        "print('Precision:', precision)\n",
        "\n",
        "# confusion_matrix = sklearn.metrics.confusion_matrix(y_test, y_pred)\n",
        "# print(confusion_matrix)\n",
        "\n",
        "from sklearn.metrics import confusion_matrix, accuracy_score, precision_score, recall_score, f1_score\n",
        "\n",
        "# Confusion Matrix\n",
        "cm = confusion_matrix(y_test, y_pred)\n",
        "print(\"Confusion Matrix:\")\n",
        "print(cm)\n",
        "\n",
        "\n",
        "tn = cm[0, 0]\n",
        "fp = cm[0, 1]\n",
        "\n",
        "specificity = tn / (tn + fp)\n",
        "print(f\"Specificity: {specificity}\")\n",
        "\n",
        "accuracy = accuracy_score(y_test, y_pred)\n",
        "print(f\"Accuracy: {accuracy}\")\n",
        "\n",
        "precision = precision_score(y_test, y_pred)\n",
        "print(f\"Precision: {precision}\")\n",
        "\n",
        "recall = recall_score(y_test, y_pred)\n",
        "print(f\"Recall: {recall}\")\n",
        "\n",
        "f_score = f1_score(y_test, y_pred)\n",
        "print(f\"F-score: {f_score}\")"
      ]
    }
  ]
}